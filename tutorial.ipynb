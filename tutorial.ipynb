{
 "cells": [
  {
   "cell_type": "markdown",
   "metadata": {},
   "source": [
    "## Welcome to the SuCCESs toolbox\n",
    "This file introduces a set of basic functions to analyze results from the SuCCESs IAM. All functions should come with a description and instructions that should be visible when hovering the functions (at least in VScode).\n",
    "\n",
    "You can also copy-paste the source code from <code>toolbox</code> and modify it to your own use.\n",
    "\n",
    "<div class=\"alert alert-block alert-info\">\n",
    "<b>Note:</b> If running the following cell <code>import toolbox</code> results in an error, it is very likely that there is a problem with your virtual environment. Please refer to the <a href=\"https://github.com/SuCCESsIAM/SuCCESsIAM-toolbox\">README.md</a> on github for further instructions.\n",
    "</div>"
   ]
  },
  {
   "cell_type": "code",
   "execution_count": 1,
   "metadata": {},
   "outputs": [],
   "source": [
    "import toolbox"
   ]
  },
  {
   "cell_type": "markdown",
   "metadata": {},
   "source": [
    "### Import gdx file\n",
    "Declare `gdx_filename` and `gdx_folder_path` to your .gdx file. If the `.gdx` file is in the root of this folder (such as the example file) the folder path it is not necessary to declare."
   ]
  },
  {
   "cell_type": "code",
   "execution_count": null,
   "metadata": {},
   "outputs": [],
   "source": [
    "#gdx_folder_path = \"C:/path/to/your/folder/with/gdx/files\"\n",
    "#gdx_data = toolbox.import_gdx_file(gdx_filename=\"your_gdx_file.gdx\", gdx_folder_path=gdx_folder_path)\n",
    "gdx_data = toolbox.import_gdx_file(gdx_filename=\"example.gdx\")"
   ]
  },
  {
   "cell_type": "markdown",
   "metadata": {},
   "source": [
    "## Plots"
   ]
  },
  {
   "cell_type": "markdown",
   "metadata": {},
   "source": [
    "### Mean temperature increase \n",
    "Simple plot showing the increase in global mean temperature by 2100"
   ]
  },
  {
   "cell_type": "code",
   "execution_count": null,
   "metadata": {},
   "outputs": [],
   "source": [
    "toolbox.plot_deltaT(gdx_data)"
   ]
  },
  {
   "cell_type": "markdown",
   "metadata": {},
   "source": [
    "### Emissions\n",
    "\n",
    "Separating $CO_2$ emissions by source type and other GHG emissions.\n"
   ]
  },
  {
   "cell_type": "code",
   "execution_count": null,
   "metadata": {},
   "outputs": [],
   "source": [
    "toolbox.plot_emissions(gdx_data)"
   ]
  },
  {
   "cell_type": "code",
   "execution_count": null,
   "metadata": {},
   "outputs": [],
   "source": [
    "toolbox.plot_total_net_emissions_co2eq(gdx_data)"
   ]
  },
  {
   "cell_type": "markdown",
   "metadata": {},
   "source": [
    "### Commodities"
   ]
  },
  {
   "cell_type": "markdown",
   "metadata": {},
   "source": [
    "##### Electricity\n",
    "This plot presents annual summed electricity production per process. You can choose to plot values in PWh (default) or EJ (by setting `joules = True`)"
   ]
  },
  {
   "cell_type": "code",
   "execution_count": null,
   "metadata": {},
   "outputs": [],
   "source": [
    "toolbox.plot_electricity_production(gdx_data, joules=False)"
   ]
  },
  {
   "cell_type": "markdown",
   "metadata": {},
   "source": [
    "##### Other commodities\n",
    "To list all available commodities run <code style=\"\">toolbox.print_all_commodities(gdx_data)</code>. You can then plot one or more commodities in the same figure by including them in a list of commodities. Note: list format is required but the list can only contain one string. \n",
    "\n",
    "You can scale the plot by providing a `scale_by` value which is used to divide the plotted values. E.g. `scale_by=1000` converts megatonnes to gigatonnes. Additionally, figures can be made `stacked` or/and `cumulative` by setting these parameters to `True`."
   ]
  },
  {
   "cell_type": "code",
   "execution_count": null,
   "metadata": {},
   "outputs": [],
   "source": [
    "toolbox.print_all_commodities(gdx_data)"
   ]
  },
  {
   "cell_type": "code",
   "execution_count": null,
   "metadata": {},
   "outputs": [],
   "source": [
    "commodities = [\"BTX\", \"METHANOL\"]\n",
    "toolbox.plot_commodity_production(gdx_data, commodities, unit=\"Mt\")"
   ]
  },
  {
   "cell_type": "code",
   "execution_count": null,
   "metadata": {},
   "outputs": [],
   "source": [
    "commodities = [\"CRUD\", \"COAL\"]\n",
    "toolbox.plot_commodity_production(gdx_data, commodities, stacked=True, cumulative=True, unit=\"Gt\", scale_by=1000)"
   ]
  },
  {
   "cell_type": "markdown",
   "metadata": {},
   "source": [
    "##### Technologies used in producing commodities\n",
    "You can also plot which technologies are used in producing a commodity. This figure is always stacked."
   ]
  },
  {
   "cell_type": "code",
   "execution_count": null,
   "metadata": {},
   "outputs": [],
   "source": [
    "toolbox.plot_commodity_by_process(gdx_data, commodity=\"BTX\", unit=\"Mt\")"
   ]
  },
  {
   "cell_type": "markdown",
   "metadata": {},
   "source": [
    "### Transportation"
   ]
  },
  {
   "cell_type": "code",
   "execution_count": null,
   "metadata": {},
   "outputs": [],
   "source": [
    "toolbox.plot_passenger_transportation(gdx_data)"
   ]
  },
  {
   "cell_type": "code",
   "execution_count": null,
   "metadata": {},
   "outputs": [],
   "source": [
    "toolbox.plot_freight_transportation(gdx_data)"
   ]
  },
  {
   "cell_type": "markdown",
   "metadata": {},
   "source": [
    "### Land-use"
   ]
  },
  {
   "cell_type": "code",
   "execution_count": null,
   "metadata": {},
   "outputs": [],
   "source": [
    "toolbox.plot_landuse(gdx_data, 2090)"
   ]
  },
  {
   "cell_type": "code",
   "execution_count": null,
   "metadata": {},
   "outputs": [],
   "source": [
    "toolbox.plot_secondary_forest(gdx_data, 2020)"
   ]
  },
  {
   "cell_type": "code",
   "execution_count": null,
   "metadata": {},
   "outputs": [],
   "source": [
    "toolbox.plot_clearing_primary_forest(gdx_data)"
   ]
  },
  {
   "cell_type": "code",
   "execution_count": null,
   "metadata": {},
   "outputs": [],
   "source": [
    "toolbox.plot_livestock_production(gdx_data)"
   ]
  }
 ],
 "metadata": {
  "kernelspec": {
   "display_name": ".venv",
   "language": "python",
   "name": "python3"
  },
  "language_info": {
   "codemirror_mode": {
    "name": "ipython",
    "version": 3
   },
   "file_extension": ".py",
   "mimetype": "text/x-python",
   "name": "python",
   "nbconvert_exporter": "python",
   "pygments_lexer": "ipython3",
   "version": "3.12.3"
  }
 },
 "nbformat": 4,
 "nbformat_minor": 2
}
